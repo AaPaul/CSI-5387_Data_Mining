{
 "cells": [
  {
   "cell_type": "markdown",
   "metadata": {},
   "source": [
    "# Load packages"
   ]
  },
  {
   "cell_type": "code",
   "execution_count": 1,
   "metadata": {},
   "outputs": [
    {
     "name": "stderr",
     "output_type": "stream",
     "text": [
      "Using TensorFlow backend.\n",
      "C:\\Users\\18202\\Anaconda3\\lib\\site-packages\\tensorflow\\python\\framework\\dtypes.py:516: FutureWarning: Passing (type, 1) or '1type' as a synonym of type is deprecated; in a future version of numpy, it will be understood as (type, (1,)) / '(1,)type'.\n",
      "  _np_qint8 = np.dtype([(\"qint8\", np.int8, 1)])\n",
      "C:\\Users\\18202\\Anaconda3\\lib\\site-packages\\tensorflow\\python\\framework\\dtypes.py:517: FutureWarning: Passing (type, 1) or '1type' as a synonym of type is deprecated; in a future version of numpy, it will be understood as (type, (1,)) / '(1,)type'.\n",
      "  _np_quint8 = np.dtype([(\"quint8\", np.uint8, 1)])\n",
      "C:\\Users\\18202\\Anaconda3\\lib\\site-packages\\tensorflow\\python\\framework\\dtypes.py:518: FutureWarning: Passing (type, 1) or '1type' as a synonym of type is deprecated; in a future version of numpy, it will be understood as (type, (1,)) / '(1,)type'.\n",
      "  _np_qint16 = np.dtype([(\"qint16\", np.int16, 1)])\n",
      "C:\\Users\\18202\\Anaconda3\\lib\\site-packages\\tensorflow\\python\\framework\\dtypes.py:519: FutureWarning: Passing (type, 1) or '1type' as a synonym of type is deprecated; in a future version of numpy, it will be understood as (type, (1,)) / '(1,)type'.\n",
      "  _np_quint16 = np.dtype([(\"quint16\", np.uint16, 1)])\n",
      "C:\\Users\\18202\\Anaconda3\\lib\\site-packages\\tensorflow\\python\\framework\\dtypes.py:520: FutureWarning: Passing (type, 1) or '1type' as a synonym of type is deprecated; in a future version of numpy, it will be understood as (type, (1,)) / '(1,)type'.\n",
      "  _np_qint32 = np.dtype([(\"qint32\", np.int32, 1)])\n",
      "C:\\Users\\18202\\Anaconda3\\lib\\site-packages\\tensorflow\\python\\framework\\dtypes.py:525: FutureWarning: Passing (type, 1) or '1type' as a synonym of type is deprecated; in a future version of numpy, it will be understood as (type, (1,)) / '(1,)type'.\n",
      "  np_resource = np.dtype([(\"resource\", np.ubyte, 1)])\n",
      "C:\\Users\\18202\\Anaconda3\\lib\\site-packages\\tensorboard\\compat\\tensorflow_stub\\dtypes.py:541: FutureWarning: Passing (type, 1) or '1type' as a synonym of type is deprecated; in a future version of numpy, it will be understood as (type, (1,)) / '(1,)type'.\n",
      "  _np_qint8 = np.dtype([(\"qint8\", np.int8, 1)])\n",
      "C:\\Users\\18202\\Anaconda3\\lib\\site-packages\\tensorboard\\compat\\tensorflow_stub\\dtypes.py:542: FutureWarning: Passing (type, 1) or '1type' as a synonym of type is deprecated; in a future version of numpy, it will be understood as (type, (1,)) / '(1,)type'.\n",
      "  _np_quint8 = np.dtype([(\"quint8\", np.uint8, 1)])\n",
      "C:\\Users\\18202\\Anaconda3\\lib\\site-packages\\tensorboard\\compat\\tensorflow_stub\\dtypes.py:543: FutureWarning: Passing (type, 1) or '1type' as a synonym of type is deprecated; in a future version of numpy, it will be understood as (type, (1,)) / '(1,)type'.\n",
      "  _np_qint16 = np.dtype([(\"qint16\", np.int16, 1)])\n",
      "C:\\Users\\18202\\Anaconda3\\lib\\site-packages\\tensorboard\\compat\\tensorflow_stub\\dtypes.py:544: FutureWarning: Passing (type, 1) or '1type' as a synonym of type is deprecated; in a future version of numpy, it will be understood as (type, (1,)) / '(1,)type'.\n",
      "  _np_quint16 = np.dtype([(\"quint16\", np.uint16, 1)])\n",
      "C:\\Users\\18202\\Anaconda3\\lib\\site-packages\\tensorboard\\compat\\tensorflow_stub\\dtypes.py:545: FutureWarning: Passing (type, 1) or '1type' as a synonym of type is deprecated; in a future version of numpy, it will be understood as (type, (1,)) / '(1,)type'.\n",
      "  _np_qint32 = np.dtype([(\"qint32\", np.int32, 1)])\n",
      "C:\\Users\\18202\\Anaconda3\\lib\\site-packages\\tensorboard\\compat\\tensorflow_stub\\dtypes.py:550: FutureWarning: Passing (type, 1) or '1type' as a synonym of type is deprecated; in a future version of numpy, it will be understood as (type, (1,)) / '(1,)type'.\n",
      "  np_resource = np.dtype([(\"resource\", np.ubyte, 1)])\n"
     ]
    }
   ],
   "source": [
    "from keras.preprocessing import sequence\n",
    "from keras.models import Sequential\n",
    "from keras.layers import Dense, Dropout\n",
    "from sklearn.preprocessing import MinMaxScaler\n",
    "import pandas as pd\n",
    "import matplotlib.pyplot as plt\n",
    "import numpy as np\n",
    "from sklearn import preprocessing\n",
    "from sklearn import linear_model\n",
    "from sklearn.model_selection import train_test_split\n",
    "from sklearn.pipeline import Pipeline\n",
    "from sklearn.preprocessing import PolynomialFeatures\n",
    "from sklearn.decomposition import PCA\n",
    "import matplotlib\n",
    "import matplotlib.pyplot as plt\n",
    "from sklearn.metrics import mean_absolute_error\n",
    "from sklearn.metrics import mean_squared_error"
   ]
  },
  {
   "cell_type": "markdown",
   "metadata": {},
   "source": [
    "# Preprocessing"
   ]
  },
  {
   "cell_type": "code",
   "execution_count": 13,
   "metadata": {},
   "outputs": [],
   "source": [
    "df = pd.read_excel(\"E:/weka/Dataset/Real estate valuation data set.xlsx\")\n",
    "df = pd.DataFrame(df)\n",
    "df = df.drop(['No'],axis=1)\n",
    "df = np.array(df)\n",
    "splitted_array = np.split(df,[-1],axis=1)\n",
    "data = pd.DataFrame(splitted_array[0])\n",
    "label = pd.DataFrame(splitted_array[1])\n",
    "scaler = preprocessing.MinMaxScaler()\n",
    "data = scaler.fit_transform(data)\n",
    "data = pd.DataFrame(data)"
   ]
  },
  {
   "cell_type": "markdown",
   "metadata": {},
   "source": [
    "# Dividing dataset into training set and testing set"
   ]
  },
  {
   "cell_type": "code",
   "execution_count": 14,
   "metadata": {},
   "outputs": [],
   "source": [
    "X_train, X_test, y_train, y_test = train_test_split(data, label, test_size=0.25, random_state=0)"
   ]
  },
  {
   "cell_type": "markdown",
   "metadata": {},
   "source": [
    "# MLP"
   ]
  },
  {
   "cell_type": "code",
   "execution_count": 31,
   "metadata": {},
   "outputs": [
    {
     "name": "stdout",
     "output_type": "stream",
     "text": [
      "_________________________________________________________________\n",
      "Layer (type)                 Output Shape              Param #   \n",
      "=================================================================\n",
      "dense_19 (Dense)             (None, 8)                 56        \n",
      "_________________________________________________________________\n",
      "dense_20 (Dense)             (None, 16)                144       \n",
      "_________________________________________________________________\n",
      "dense_21 (Dense)             (None, 32)                544       \n",
      "_________________________________________________________________\n",
      "dense_22 (Dense)             (None, 16)                528       \n",
      "_________________________________________________________________\n",
      "dense_23 (Dense)             (None, 8)                 136       \n",
      "_________________________________________________________________\n",
      "dense_24 (Dense)             (None, 1)                 9         \n",
      "=================================================================\n",
      "Total params: 1,417\n",
      "Trainable params: 1,417\n",
      "Non-trainable params: 0\n",
      "_________________________________________________________________\n",
      "None\n",
      "Epoch 1/60\n",
      "310/310 [==============================] - 1s 2ms/step - loss: 1653.9845\n",
      "Epoch 2/60\n",
      "310/310 [==============================] - 0s 138us/step - loss: 1648.4962\n",
      "Epoch 3/60\n",
      "310/310 [==============================] - 0s 142us/step - loss: 1642.4833\n",
      "Epoch 4/60\n",
      "310/310 [==============================] - 0s 145us/step - loss: 1633.7214\n",
      "Epoch 5/60\n",
      "310/310 [==============================] - 0s 106us/step - loss: 1619.1901\n",
      "Epoch 6/60\n",
      "310/310 [==============================] - 0s 148us/step - loss: 1592.7466\n",
      "Epoch 7/60\n",
      "310/310 [==============================] - 0s 142us/step - loss: 1548.2651\n",
      "Epoch 8/60\n",
      "310/310 [==============================] - 0s 113us/step - loss: 1473.6705\n",
      "Epoch 9/60\n",
      "310/310 [==============================] - 0s 132us/step - loss: 1345.9027\n",
      "Epoch 10/60\n",
      "310/310 [==============================] - 0s 113us/step - loss: 1149.7900\n",
      "Epoch 11/60\n",
      "310/310 [==============================] - 0s 148us/step - loss: 878.1018\n",
      "Epoch 12/60\n",
      "310/310 [==============================] - 0s 132us/step - loss: 559.2234\n",
      "Epoch 13/60\n",
      "310/310 [==============================] - 0s 119us/step - loss: 291.1780\n",
      "Epoch 14/60\n",
      "310/310 [==============================] - 0s 122us/step - loss: 170.9769\n",
      "Epoch 15/60\n",
      "310/310 [==============================] - 0s 132us/step - loss: 152.7654\n",
      "Epoch 16/60\n",
      "310/310 [==============================] - 0s 138us/step - loss: 150.3675\n",
      "Epoch 17/60\n",
      "310/310 [==============================] - 0s 142us/step - loss: 144.7708\n",
      "Epoch 18/60\n",
      "310/310 [==============================] - 0s 119us/step - loss: 139.9227\n",
      "Epoch 19/60\n",
      "310/310 [==============================] - 0s 113us/step - loss: 136.7359\n",
      "Epoch 20/60\n",
      "310/310 [==============================] - 0s 148us/step - loss: 134.1769\n",
      "Epoch 21/60\n",
      "310/310 [==============================] - 0s 129us/step - loss: 131.2821\n",
      "Epoch 22/60\n",
      "310/310 [==============================] - 0s 103us/step - loss: 128.6346\n",
      "Epoch 23/60\n",
      "310/310 [==============================] - 0s 132us/step - loss: 126.6345\n",
      "Epoch 24/60\n",
      "310/310 [==============================] - 0s 132us/step - loss: 124.1551\n",
      "Epoch 25/60\n",
      "310/310 [==============================] - 0s 122us/step - loss: 122.2197\n",
      "Epoch 26/60\n",
      "310/310 [==============================] - 0s 103us/step - loss: 119.8859\n",
      "Epoch 27/60\n",
      "310/310 [==============================] - 0s 138us/step - loss: 117.9166\n",
      "Epoch 28/60\n",
      "310/310 [==============================] - 0s 125us/step - loss: 116.0217\n",
      "Epoch 29/60\n",
      "310/310 [==============================] - 0s 106us/step - loss: 114.5599\n",
      "Epoch 30/60\n",
      "310/310 [==============================] - 0s 119us/step - loss: 112.2332\n",
      "Epoch 31/60\n",
      "310/310 [==============================] - 0s 122us/step - loss: 110.8446\n",
      "Epoch 32/60\n",
      "310/310 [==============================] - 0s 122us/step - loss: 108.9810\n",
      "Epoch 33/60\n",
      "310/310 [==============================] - 0s 119us/step - loss: 108.0010\n",
      "Epoch 34/60\n",
      "310/310 [==============================] - 0s 100us/step - loss: 105.8668\n",
      "Epoch 35/60\n",
      "310/310 [==============================] - 0s 132us/step - loss: 105.0424\n",
      "Epoch 36/60\n",
      "310/310 [==============================] - 0s 113us/step - loss: 103.6654\n",
      "Epoch 37/60\n",
      "310/310 [==============================] - 0s 135us/step - loss: 101.9064\n",
      "Epoch 38/60\n",
      "310/310 [==============================] - 0s 138us/step - loss: 100.1068\n",
      "Epoch 39/60\n",
      "310/310 [==============================] - 0s 113us/step - loss: 99.3145\n",
      "Epoch 40/60\n",
      "310/310 [==============================] - 0s 106us/step - loss: 98.0686\n",
      "Epoch 41/60\n",
      "310/310 [==============================] - 0s 109us/step - loss: 96.4847\n",
      "Epoch 42/60\n",
      "310/310 [==============================] - 0s 119us/step - loss: 96.1528\n",
      "Epoch 43/60\n",
      "310/310 [==============================] - 0s 113us/step - loss: 94.7301\n",
      "Epoch 44/60\n",
      "310/310 [==============================] - ETA: 0s - loss: 80.97 - 0s 106us/step - loss: 92.9961\n",
      "Epoch 45/60\n",
      "310/310 [==============================] - 0s 100us/step - loss: 92.5718\n",
      "Epoch 46/60\n",
      "310/310 [==============================] - 0s 93us/step - loss: 91.4622\n",
      "Epoch 47/60\n",
      "310/310 [==============================] - 0s 97us/step - loss: 90.4905\n",
      "Epoch 48/60\n",
      "310/310 [==============================] - 0s 90us/step - loss: 89.6500\n",
      "Epoch 49/60\n",
      "310/310 [==============================] - 0s 125us/step - loss: 89.9434\n",
      "Epoch 50/60\n",
      "310/310 [==============================] - 0s 103us/step - loss: 88.9674\n",
      "Epoch 51/60\n",
      "310/310 [==============================] - 0s 116us/step - loss: 86.9411\n",
      "Epoch 52/60\n",
      "310/310 [==============================] - 0s 106us/step - loss: 86.2374\n",
      "Epoch 53/60\n",
      "310/310 [==============================] - 0s 109us/step - loss: 86.2929\n",
      "Epoch 54/60\n",
      "310/310 [==============================] - 0s 109us/step - loss: 86.2543\n",
      "Epoch 55/60\n",
      "310/310 [==============================] - 0s 103us/step - loss: 84.7035\n",
      "Epoch 56/60\n",
      "310/310 [==============================] - 0s 106us/step - loss: 84.4322\n",
      "Epoch 57/60\n",
      "310/310 [==============================] - 0s 116us/step - loss: 83.4508\n",
      "Epoch 58/60\n",
      "310/310 [==============================] - 0s 116us/step - loss: 82.7349\n",
      "Epoch 59/60\n",
      "310/310 [==============================] - 0s 103us/step - loss: 82.5559\n",
      "Epoch 60/60\n",
      "310/310 [==============================] - 0s 106us/step - loss: 81.9810\n"
     ]
    }
   ],
   "source": [
    "model = Sequential()  \n",
    "model.add(Dense(units = 8,use_bias = True,activation='relu',input_shape=(X_train.shape[1],) ))\n",
    "model.add(Dense(units = 16,use_bias = True,activation='relu'))\n",
    "model.add(Dense(units = 32,use_bias = True,activation='relu'))\n",
    "model.add(Dense(units = 16,use_bias = True,activation='relu'))\n",
    "model.add(Dense(units = 8,use_bias = True,activation='relu'))\n",
    "model.add(Dense(units = 1,activation='linear'))\n",
    "print(model.summary())\n",
    "model.compile(loss='mse',optimizer='nadam')\n",
    "history = model.fit(X_train, y_train,epochs=60,batch_size=68)"
   ]
  },
  {
   "cell_type": "markdown",
   "metadata": {},
   "source": [
    "# Graph for convergence loss"
   ]
  },
  {
   "cell_type": "code",
   "execution_count": 32,
   "metadata": {},
   "outputs": [
    {
     "data": {
      "image/png": "[encoded data removed]",
      "text/plain": [
       "<Figure size 432x288 with 1 Axes>"
      ]
     },
     "metadata": {
      "needs_background": "light"
     },
     "output_type": "display_data"
    }
   ],
   "source": [
    "plt.plot(history.history['loss'])\n",
    "plt.ylabel('loss')\n",
    "plt.xlabel('epoch')\n",
    "plt.show()"
   ]
  },
  {
   "cell_type": "markdown",
   "metadata": {},
   "source": [
    "# MAE for training set"
   ]
  },
  {
   "cell_type": "code",
   "execution_count": 33,
   "metadata": {},
   "outputs": [
    {
     "data": {
      "text/plain": [
       "6.292974305921986"
      ]
     },
     "execution_count": 33,
     "metadata": {},
     "output_type": "execute_result"
    }
   ],
   "source": [
    "Y_pre = model.predict(X_train)\n",
    "mean_absolute_error(y_train, Y_pre)"
   ]
  },
  {
   "cell_type": "markdown",
   "metadata": {},
   "source": [
    "# MAE for testing set"
   ]
  },
  {
   "cell_type": "code",
   "execution_count": 34,
   "metadata": {},
   "outputs": [
    {
     "data": {
      "text/plain": [
       "6.438686084747314"
      ]
     },
     "execution_count": 34,
     "metadata": {},
     "output_type": "execute_result"
    }
   ],
   "source": [
    "y_pre = model.predict(X_test)\n",
    "mean_absolute_error(y_test, y_pre)"
   ]
  },
  {
   "cell_type": "markdown",
   "metadata": {},
   "source": [
    "# MSE for training set"
   ]
  },
  {
   "cell_type": "code",
   "execution_count": 35,
   "metadata": {},
   "outputs": [
    {
     "data": {
      "text/plain": [
       "81.23212521501642"
      ]
     },
     "execution_count": 35,
     "metadata": {},
     "output_type": "execute_result"
    }
   ],
   "source": [
    "mean_squared_error(y_train, Y_pre)"
   ]
  },
  {
   "cell_type": "markdown",
   "metadata": {},
   "source": [
    "# MSE for testing set"
   ]
  },
  {
   "cell_type": "code",
   "execution_count": 36,
   "metadata": {},
   "outputs": [
    {
     "data": {
      "text/plain": [
       "75.94032426218058"
      ]
     },
     "execution_count": 36,
     "metadata": {},
     "output_type": "execute_result"
    }
   ],
   "source": [
    "mean_squared_error(y_test, y_pre)"
   ]
  },
  {
   "cell_type": "code",
   "execution_count": 37,
   "metadata": {},
   "outputs": [
    {
     "data": {
      "text/plain": [
       "0.5479713522764791"
      ]
     },
     "execution_count": 37,
     "metadata": {},
     "output_type": "execute_result"
    }
   ],
   "source": [
    "from sklearn import metrics\n",
    "metrics.r2_score(y_test,y_pre)"
   ]
  },
  {
   "cell_type": "code",
   "execution_count": 38,
   "metadata": {},
   "outputs": [
    {
     "data": {
      "text/plain": [
       "0.0658166507066131"
      ]
     },
     "execution_count": 38,
     "metadata": {},
     "output_type": "execute_result"
    }
   ],
   "source": [
    "metrics.mean_squared_log_error(y_test,y_pre)"
   ]
  },
  {
   "cell_type": "code",
   "execution_count": null,
   "metadata": {},
   "outputs": [],
   "source": []
  }
 ],
 "metadata": {
  "kernelspec": {
   "display_name": "Python 3",
   "language": "python",
   "name": "python3"
  },
  "language_info": {
   "codemirror_mode": {
    "name": "ipython",
    "version": 3
   },
   "file_extension": ".py",
   "mimetype": "text/x-python",
   "name": "python",
   "nbconvert_exporter": "python",
   "pygments_lexer": "ipython3",
   "version": "3.7.3"
  }
 },
 "nbformat": 4,
 "nbformat_minor": 4
}
